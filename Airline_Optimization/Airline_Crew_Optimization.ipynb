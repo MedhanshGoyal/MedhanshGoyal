{
  "nbformat": 4,
  "nbformat_minor": 0,
  "metadata": {
    "colab": {
      "provenance": []
    },
    "kernelspec": {
      "name": "python3",
      "display_name": "Python 3"
    },
    "language_info": {
      "name": "python"
    }
  },
  "cells": [
    {
      "cell_type": "code",
      "source": [
        "!pip install pulp"
      ],
      "metadata": {
        "colab": {
          "base_uri": "https://localhost:8080/"
        },
        "id": "cv6zdnYmtLH2",
        "outputId": "aadb3c5c-994c-4d9c-f2e7-095b8d814b61"
      },
      "execution_count": null,
      "outputs": [
        {
          "output_type": "stream",
          "name": "stdout",
          "text": [
            "Requirement already satisfied: pulp in /usr/local/lib/python3.10/dist-packages (2.9.0)\n"
          ]
        }
      ]
    },
    {
      "cell_type": "code",
      "execution_count": null,
      "metadata": {
        "id": "_bmBkmgCtHLv"
      },
      "outputs": [],
      "source": [
        "import random\n",
        "from pulp import LpProblem, LpVariable, lpSum, LpBinary, LpMinimize, PULP_CBC_CMD\n"
      ]
    },
    {
      "cell_type": "code",
      "source": [
        "# Define the number of flights and pairings\n",
        "num_flights = 50  # Total number of flights\n",
        "num_pairings = 20  # Total number of pairings\n",
        "\n",
        "# Generate random flights\n",
        "flights = list(range(1, num_flights + 1))\n",
        "\n",
        "# Generate random pairings with better coverage\n",
        "pairings = {'P1': {'flights': [12, 38, 33, 28, 5, 30], 'cost': 457},\n",
        "            'P2': {'flights': [48, 34, 14], 'cost': 207},\n",
        "            'P3': {'flights': [44, 13, 29, 1, 10], 'cost': 122},\n",
        "            'P4': {'flights': [44, 50, 48, 21, 28, 38, 41, 23], 'cost': 192},\n",
        "            'P5': {'flights': [5, 38, 49, 27, 37, 39, 45, 26], 'cost': 470},\n",
        "            'P6': {'flights': [45, 4, 31, 23, 21, 15], 'cost': 225},\n",
        "            'P7': {'flights': [14, 38, 39, 8, 18, 3, 16], 'cost': 281},\n",
        "            'P8': {'flights': [44, 17, 21, 47, 38, 48], 'cost': 237},\n",
        "            'P9': {'flights': [24, 9, 10], 'cost': 290},\n",
        "            'P10': {'flights': [2, 11, 34, 6], 'cost': 338},\n",
        "            'P11': {'flights': [17, 4, 2, 11, 44], 'cost': 460},\n",
        "            'P12': {'flights': [2, 29, 5, 47], 'cost': 245},\n",
        "            'P13': {'flights': [26, 40, 42, 27], 'cost': 302},\n",
        "            'P14': {'flights': [8, 3, 48, 33], 'cost': 234},\n",
        "            'P15': {'flights': [27, 41, 2], 'cost': 324},\n",
        "            'P16': {'flights': [6, 8, 22, 2, 3, 38, 50, 4], 'cost': 133},\n",
        "            'P17': {'flights': [2, 10, 25, 6, 40, 38, 31], 'cost': 474},\n",
        "            'P18': {'flights': [37, 13, 10, 25, 4, 22, 47], 'cost': 226},\n",
        "            'P19': {'flights': [43, 18, 44], 'cost': 264},\n",
        "            'P20': {'flights': [19, 49, 1, 26, 35, 4], 'cost': 441}}\n"
      ],
      "metadata": {
        "id": "T_mmHyRttOys"
      },
      "execution_count": null,
      "outputs": []
    },
    {
      "cell_type": "code",
      "source": [
        "# Generate random working hours for pairings\n",
        "pairing_hours = {'P1': 4, 'P2': 8, 'P3': 8, 'P4': 4, 'P5': 2, 'P6': 8, 'P7': 2, 'P8': 8, 'P9': 6, 'P10': 7, 'P11': 2, 'P12': 3, 'P13': 2, 'P14': 2, 'P15': 5, 'P16': 8, 'P17': 2, 'P18': 7, 'P19': 8, 'P20': 7} # 2-8 hours\n",
        "\n",
        "# Define additional constraints\n",
        "max_hours = 10  # Maximum working hours a pilot can work in a day\n",
        "\n",
        "# Print generated data\n",
        "print(f\"Generated {len(flights)} Flights: {flights}\")\n",
        "print(f\"Generated {len(pairings)} Pairings:\")\n",
        "for pairing, details in pairings.items():\n",
        "    print(f\"  {pairing}: Covers Flights {details['flights']} | Cost: {details['cost']} | Hours: {pairing_hours[pairing]}\")\n"
      ],
      "metadata": {
        "colab": {
          "base_uri": "https://localhost:8080/"
        },
        "id": "hZr9OcVatT7m",
        "outputId": "6faedfda-caad-42a4-fc89-7643134754da"
      },
      "execution_count": null,
      "outputs": [
        {
          "output_type": "stream",
          "name": "stdout",
          "text": [
            "Generated 50 Flights: [1, 2, 3, 4, 5, 6, 7, 8, 9, 10, 11, 12, 13, 14, 15, 16, 17, 18, 19, 20, 21, 22, 23, 24, 25, 26, 27, 28, 29, 30, 31, 32, 33, 34, 35, 36, 37, 38, 39, 40, 41, 42, 43, 44, 45, 46, 47, 48, 49, 50]\n",
            "Generated 20 Pairings:\n",
            "  P1: Covers Flights [12, 38, 33, 28, 5, 30] | Cost: 457 | Hours: 4\n",
            "  P2: Covers Flights [48, 34, 14] | Cost: 207 | Hours: 8\n",
            "  P3: Covers Flights [44, 13, 29, 1, 10] | Cost: 122 | Hours: 8\n",
            "  P4: Covers Flights [44, 50, 48, 21, 28, 38, 41, 23] | Cost: 192 | Hours: 4\n",
            "  P5: Covers Flights [5, 38, 49, 27, 37, 39, 45, 26] | Cost: 470 | Hours: 2\n",
            "  P6: Covers Flights [45, 4, 31, 23, 21, 15] | Cost: 225 | Hours: 8\n",
            "  P7: Covers Flights [14, 38, 39, 8, 18, 3, 16] | Cost: 281 | Hours: 2\n",
            "  P8: Covers Flights [44, 17, 21, 47, 38, 48] | Cost: 237 | Hours: 8\n",
            "  P9: Covers Flights [24, 9, 10] | Cost: 290 | Hours: 6\n",
            "  P10: Covers Flights [2, 11, 34, 6] | Cost: 338 | Hours: 7\n",
            "  P11: Covers Flights [17, 4, 2, 11, 44] | Cost: 460 | Hours: 2\n",
            "  P12: Covers Flights [2, 29, 5, 47] | Cost: 245 | Hours: 3\n",
            "  P13: Covers Flights [26, 40, 42, 27] | Cost: 302 | Hours: 2\n",
            "  P14: Covers Flights [8, 3, 48, 33] | Cost: 234 | Hours: 2\n",
            "  P15: Covers Flights [27, 41, 2] | Cost: 324 | Hours: 5\n",
            "  P16: Covers Flights [6, 8, 22, 2, 3, 38, 50, 4] | Cost: 133 | Hours: 8\n",
            "  P17: Covers Flights [2, 10, 25, 6, 40, 38, 31] | Cost: 474 | Hours: 2\n",
            "  P18: Covers Flights [37, 13, 10, 25, 4, 22, 47] | Cost: 226 | Hours: 7\n",
            "  P19: Covers Flights [43, 18, 44] | Cost: 264 | Hours: 8\n",
            "  P20: Covers Flights [19, 49, 1, 26, 35, 4] | Cost: 441 | Hours: 7\n"
          ]
        }
      ]
    },
    {
      "cell_type": "code",
      "source": [
        "# Step 2: Define Helper Functions\n",
        "def get_flight_coverage_matrix(pairings, flights):\n",
        "    \"\"\"\n",
        "    Create a flight coverage matrix where each pairing is mapped to the flights it covers.\n",
        "    \"\"\"\n",
        "    coverage_matrix = {flight: [] for flight in flights}\n",
        "    for pairing, details in pairings.items():\n",
        "        for flight in details['flights']:\n",
        "            coverage_matrix[flight].append(pairing)\n",
        "    return coverage_matrix\n",
        "\n",
        "# Step 3: Initialize the Optimization Problem\n",
        "problem = LpProblem(\"Airline_Crew_Scheduling\", LpMinimize)"
      ],
      "metadata": {
        "id": "-xrnaYohtXK7"
      },
      "execution_count": null,
      "outputs": []
    },
    {
      "cell_type": "code",
      "source": [
        "# Step 4: Define Decision Variables\n",
        "x = LpVariable.dicts(\"Assign\", pairings.keys(), 0, 1, LpBinary)\n",
        "\n",
        "# Step 5: Define the Objective Function\n",
        "# Minimize the total cost of selected pairings\n",
        "problem += lpSum(pairings[p]['cost'] * x[p] for p in pairings), \"Minimize_Cost\"\n",
        "\n",
        "# Step 6: Add Constraints\n",
        "# Coverage Constraint: Ensure every flight is covered exactly once\n",
        "coverage_matrix = get_flight_coverage_matrix(pairings, flights)\n",
        "for flight in flights:\n",
        "    problem += lpSum(x[p] for p in coverage_matrix[flight]) == 1, f\"Cover_Flight_{flight}\"\n",
        "\n",
        "# Add Constraint for Zero Uncovered Flights\n",
        "# Enforce that no flight can remain uncovered\n",
        "for flight in flights:\n",
        "    problem += lpSum(x[p] for p in coverage_matrix[flight]) >= 1, f\"Ensure_Flight_{flight}_Covered\"\n",
        "\n",
        "# Maximum working hours constraint for each pairing\n",
        "for pairing in pairings:\n",
        "    problem += pairing_hours[pairing] * x[pairing] <= max_hours, f\"Max_Hours_{pairing}\"\n",
        "\n",
        "\n",
        "\n",
        " # Large penalty for uncovered flights\n"
      ],
      "metadata": {
        "id": "AcmtxSDBtZ3C"
      },
      "execution_count": null,
      "outputs": []
    },
    {
      "cell_type": "code",
      "source": [
        "# Step 7: Solve the Problem\n",
        "solver = PULP_CBC_CMD(msg=True)  # Specify solver\n",
        "problem.solve(solver)\n",
        "\n",
        "# Step 8: Output Results\n",
        "print(\"\\nOptimization Results:\")\n",
        "print(f\"Status: {problem.status}\")\n",
        "print(f\"Total Cost: {problem.objective.value()}\")\n",
        "selected_pairings = [pairing for pairing in pairings if x[pairing].value() == 1]\n",
        "for pairing in selected_pairings:\n",
        "    print(f\"Pairing {pairing} is selected.\")\n",
        "\n",
        "# Post-Solution Analysis: Covered and Uncovered Flights\n",
        "covered_flights = set(flight for pairing in selected_pairings for flight in pairings[pairing]['flights'])\n",
        "uncovered_flights = set(flights) - covered_flights\n",
        "\n",
        "print(\"\\nPost-Solution Analysis:\")\n",
        "print(f\"Selected Pairings: {selected_pairings}\")\n",
        "print(f\"Covered Flights: {covered_flights}\")\n",
        "print(f\"Uncovered Flights: {uncovered_flights if uncovered_flights else 'None (All Covered)'}\")\n"
      ],
      "metadata": {
        "colab": {
          "base_uri": "https://localhost:8080/"
        },
        "id": "iHuISHHvtdSG",
        "outputId": "721f8d7a-fcd5-4992-c672-132bc93773cf"
      },
      "execution_count": null,
      "outputs": [
        {
          "output_type": "stream",
          "name": "stdout",
          "text": [
            "\n",
            "Optimization Results:\n",
            "Status: -1\n",
            "Total Cost: 639.0\n",
            "Pairing P6 is selected.\n",
            "Pairing P7 is selected.\n",
            "Pairing P16 is selected.\n",
            "\n",
            "Post-Solution Analysis:\n",
            "Selected Pairings: ['P6', 'P7', 'P16']\n",
            "Covered Flights: {2, 3, 4, 38, 39, 8, 6, 45, 14, 15, 16, 18, 50, 21, 22, 23, 31}\n",
            "Uncovered Flights: {1, 5, 7, 9, 10, 11, 12, 13, 17, 19, 20, 24, 25, 26, 27, 28, 29, 30, 32, 33, 34, 35, 36, 37, 40, 41, 42, 43, 44, 46, 47, 48, 49}\n"
          ]
        }
      ]
    },
    {
      "cell_type": "code",
      "source": [
        "\n",
        "# Step 9: Visualize the Solution (Optional)\n",
        "try:\n",
        "    import matplotlib.pyplot as plt\n",
        "\n",
        "    # Bar chart showing the cost of selected pairings\n",
        "    plt.bar(pairings.keys(), [x[p].value() * pairings[p]['cost'] for p in pairings])\n",
        "    plt.xlabel(\"Pairings\")\n",
        "    plt.ylabel(\"Cost\")\n",
        "    plt.title(\"Cost of Selected Pairings\")\n",
        "    plt.show()\n",
        "except ImportError:\n",
        "    print(\"Matplotlib not installed. Skipping visualization.\")"
      ],
      "metadata": {
        "colab": {
          "base_uri": "https://localhost:8080/",
          "height": 472
        },
        "id": "7IT-tCBdtfp5",
        "outputId": "d13019b3-7281-45b4-eff5-4357c2f0dc11"
      },
      "execution_count": null,
      "outputs": [
        {
          "output_type": "display_data",
          "data": {
            "text/plain": [
              "<Figure size 640x480 with 1 Axes>"
            ],
            "image/png": "[encoded data removed]"
          },
          "metadata": {}
        }
      ]
    }
  ]
}