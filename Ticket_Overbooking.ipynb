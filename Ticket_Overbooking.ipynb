{
  "nbformat": 4,
  "nbformat_minor": 0,
  "metadata": {
    "colab": {
      "provenance": [],
      "authorship_tag": "ABX9TyNGSaKDI5nAnHwTwBj7YltL"
    },
    "kernelspec": {
      "name": "python3",
      "display_name": "Python 3"
    },
    "language_info": {
      "name": "python"
    }
  },
  "cells": [
    {
      "cell_type": "code",
      "execution_count": null,
      "metadata": {
        "colab": {
          "base_uri": "https://localhost:8080/"
        },
        "id": "IwQYaRYU2vgH",
        "outputId": "841f7359-9087-44cf-e8de-c730166be2f8"
      },
      "outputs": [
        {
          "output_type": "stream",
          "name": "stdout",
          "text": [
            "Collecting pulp\n",
            "  Downloading PuLP-2.9.0-py3-none-any.whl.metadata (5.4 kB)\n",
            "Downloading PuLP-2.9.0-py3-none-any.whl (17.7 MB)\n",
            "\u001b[2K   \u001b[90m━━━━━━━━━━━━━━━━━━━━━━━━━━━━━━━━━━━━━━━━\u001b[0m \u001b[32m17.7/17.7 MB\u001b[0m \u001b[31m30.4 MB/s\u001b[0m eta \u001b[36m0:00:00\u001b[0m\n",
            "\u001b[?25hInstalling collected packages: pulp\n",
            "Successfully installed pulp-2.9.0\n"
          ]
        }
      ],
      "source": [
        "!pip install pulp"
      ]
    },
    {
      "cell_type": "code",
      "source": [
        "import numpy as np\n",
        "import pulp as pl"
      ],
      "metadata": {
        "id": "1CzlRz-e20I1"
      },
      "execution_count": null,
      "outputs": []
    },
    {
      "cell_type": "code",
      "source": [
        "# Parameters\n",
        "seat_capacity = 100\n",
        "prob_showup = 0.94\n",
        "revenue_per_seat = 400\n",
        "voucher_cost = revenue_per_seat * 2\n",
        "max_overbooking = 20\n",
        "\n",
        "# Objective: Maximize the net revenue\n",
        "# Decision variable: tickets_overbooked\n",
        "\n",
        "# Initialize the Linear Program\n",
        "lp = pl.LpProblem(\"Maximize_Net_Revenue\", pl.LpMaximize)\n",
        "\n",
        "# Decision variables: the number of overbooked tickets (from 0 to max_overbooking)\n",
        "x = pl.LpVariable.dicts(\"Tickets_Overbooked\", range(0, max_overbooking+1), lowBound=0, cat='Integer')"
      ],
      "metadata": {
        "id": "cQ5WEhHV23xF"
      },
      "execution_count": null,
      "outputs": []
    },
    {
      "cell_type": "code",
      "source": [
        "# Objective Function: Maximize net revenue\n",
        "def net_revenue(tickets_overbooked):\n",
        "    tickets_sold = seat_capacity + tickets_overbooked\n",
        "    total_showups = tickets_sold * prob_showup\n",
        "    if total_showups <= seat_capacity:\n",
        "        return revenue_per_seat * total_showups\n",
        "    else:\n",
        "        upset_customers = total_showups - seat_capacity\n",
        "        return (total_showups * revenue_per_seat) - (voucher_cost * upset_customers)\n"
      ],
      "metadata": {
        "id": "ZG9QBJVp26gW"
      },
      "execution_count": null,
      "outputs": []
    },
    {
      "cell_type": "code",
      "source": [
        "# Adding the objective to the problem\n",
        "lp += pl.lpSum([net_revenue(t) * x[t] for t in range(0, max_overbooking+1)]), \"Total_Net_Revenue\"\n",
        "\n",
        "# Constraints:\n",
        "# The number of overbooked tickets should not exceed the maximum allowed.\n",
        "lp += pl.lpSum([x[t] for t in range(0, max_overbooking+1)]) <= max_overbooking, \"Max_Overbooking_Constraint\"\n",
        "\n",
        "# Solve the problem\n",
        "lp.solve()\n",
        "\n"
      ],
      "metadata": {
        "colab": {
          "base_uri": "https://localhost:8080/"
        },
        "id": "5sUtMGhS29Su",
        "outputId": "90a34e28-3cfd-43bd-fe24-8c135a80bb99"
      },
      "execution_count": null,
      "outputs": [
        {
          "output_type": "execute_result",
          "data": {
            "text/plain": [
              "1"
            ]
          },
          "metadata": {},
          "execution_count": 5
        }
      ]
    },
    {
      "cell_type": "code",
      "source": [
        "# Print the optimal solution\n",
        "print(\"Status:\", pl.LpStatus[lp.status])\n",
        "\n",
        "# Optimal number of overbooked tickets\n",
        "optimal_overbooking = np.argmax([x[t].varValue for t in range(0, max_overbooking+1)])\n",
        "print(f\"Optimal Tickets Overbooked: {optimal_overbooking}\")\n",
        "\n",
        "# Print the optimal revenue\n",
        "optimal_revenue = pl.value(lp.objective)\n",
        "print(f\"Optimal Net Revenue: ${optimal_revenue:.2f}\")"
      ],
      "metadata": {
        "colab": {
          "base_uri": "https://localhost:8080/"
        },
        "id": "YQ05VwOi2_CL",
        "outputId": "730997f5-d19b-49ce-a7ae-7a25f0485fd6"
      },
      "execution_count": null,
      "outputs": [
        {
          "output_type": "stream",
          "name": "stdout",
          "text": [
            "Status: Optimal\n",
            "Optimal Tickets Overbooked: 6\n",
            "Optimal Net Revenue: $797120.00\n"
          ]
        }
      ]
    }
  ]
}